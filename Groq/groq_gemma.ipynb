{
 "cells": [
  {
   "cell_type": "code",
   "execution_count": 3,
   "metadata": {},
   "outputs": [],
   "source": [
    "from langchain_groq import ChatGroq"
   ]
  },
  {
   "cell_type": "code",
   "execution_count": 5,
   "metadata": {},
   "outputs": [],
   "source": [
    "import os\n",
    "from dotenv import load_dotenv\n",
    "load_dotenv()\n",
    "os.environ[\"GROQ_API_KEY\"]=os.getenv(\"GROQ_API_KEY\")"
   ]
  },
  {
   "cell_type": "code",
   "execution_count": 6,
   "metadata": {},
   "outputs": [],
   "source": [
    "model=ChatGroq(model=\"gemma2-9b-it\")"
   ]
  },
  {
   "cell_type": "code",
   "execution_count": 12,
   "metadata": {},
   "outputs": [],
   "source": [
    "from langchain_core.messages import HumanMessage,SystemMessage\n",
    "messages=[\n",
    "    SystemMessage(content=\"you should be a finacial advisor\"),\n",
    "    HumanMessage(content=\"suggest me how i can increase my stock market returns\")\n",
    "]\n",
    "\n",
    "result=model.invoke(messages)"
   ]
  },
  {
   "cell_type": "code",
   "execution_count": 13,
   "metadata": {},
   "outputs": [
    {
     "data": {
      "text/plain": [
       "\"I understand you're looking to boost your stock market returns, but as an AI, I can't offer specific financial advice. Providing financial advice is a regulated activity, and I'm not qualified to do so. \\n\\nHowever, I can give you some general information and strategies that investors often consider when aiming to increase their returns:\\n\\n**Understanding Risk and Return:**\\n\\n* **Higher potential returns usually come with higher risk.**  Be clear about your risk tolerance – how much fluctuation in your investments can you stomach?\\n\\n**Investment Strategies:**\\n\\n* **Diversification:** Don't put all your eggs in one basket. Spread your investments across different asset classes (stocks, bonds, real estate, etc.), sectors, and geographies.\\n* **Long-term perspective:** The stock market goes through ups and downs.  A long-term investment horizon can help you weather short-term volatility.\\n* **Dollar-cost averaging:** Invest a fixed amount of money at regular intervals, regardless of the market's fluctuations. This can help reduce the impact of market timing.\\n* **Rebalancing:** Periodically adjust your portfolio to maintain your desired asset allocation.\\n\\n**Research and Due Diligence:**\\n\\n* **Understand the companies you invest in:**  Research their financials, industry, and competitive landscape.\\n* **Consider index funds or ETFs:** These funds track a specific market index, providing instant diversification.\\n* **Stay informed about market trends:** Read financial news, but be wary of hype and emotional decision-making.\\n\\n**Professional Advice:**\\n\\n* **Consult with a qualified financial advisor:** A professional can help you develop a personalized investment plan based on your goals, risk tolerance, and financial situation.\\n\\n\\nRemember, there are no guarantees in the stock market. Past performance is not indicative of future results. Make informed decisions, manage your risk, and invest for the long haul.\\n\\n\""
      ]
     },
     "execution_count": 13,
     "metadata": {},
     "output_type": "execute_result"
    }
   ],
   "source": [
    "from langchain_core.output_parsers import StrOutputParser\n",
    "\n",
    "parser=StrOutputParser()\n",
    "parser.invoke(result)"
   ]
  },
  {
   "cell_type": "code",
   "execution_count": 16,
   "metadata": {},
   "outputs": [
    {
     "data": {
      "text/plain": [
       "\"I can provide you with information and strategies commonly used to potentially increase stock market returns, but remember, I am not a financial advisor and this is not financial advice. It's crucial to consult with a qualified professional before making any investment decisions.\\n\\nHere are some strategies to consider:\\n\\n**1. Diversification:**\\n\\n* **Don't put all your eggs in one basket:** Invest in a mix of asset classes (stocks, bonds, real estate, etc.) and different sectors within the stock market. This helps spread risk and potentially smooth out returns.\\n* **Consider international investments:** Diversifying geographically can further reduce risk and expose you to growth opportunities in different markets.\\n\\n**2. Long-Term Investing:**\\n\\n* **Time is your friend:** Historically, the stock market has trended upwards over the long term.\\n* **Ride out short-term fluctuations:** Avoid panic selling during market downturns; instead, focus on your long-term investment goals.\\n\\n**3. Dollar-Cost Averaging:**\\n\\n* **Invest consistently:** Invest a fixed amount of money at regular intervals, regardless of market conditions. This helps average out your purchase price over time and reduce the impact of market volatility.\\n\\n**4. Value Investing:**\\n\\n* **Look for undervalued stocks:** Research companies with strong fundamentals but whose stock price may be temporarily depressed.\\n\\n**5. Growth Investing:**\\n\\n* **Invest in companies with high growth potential:** These companies may have volatile stock prices but offer the potential for significant returns.\\n\\n**6. Index Fund Investing:**\\n\\n* **Passive investing:** Invest in low-cost index funds that track a broad market index (e.g., S&P 500). This provides instant diversification and generally lower fees compared to actively managed funds.\\n\\n**7. Rebalancing:**\\n\\n* **Maintain your asset allocation:** Periodically review and adjust your portfolio to ensure it still aligns with your risk tolerance and investment goals.\\n\\n**8. Continuous Learning:**\\n\\n* **Stay informed:** Keep up with market trends, economic news, and company performance.\\n\\n**9. Manage Risk:**\\n\\n* **Understand your risk tolerance:** Don't invest money you can't afford to lose.\\n* **Use stop-loss orders:** Set limits on potential losses for individual investments.\\n\\n**10. Seek Professional Advice:**\\n\\n* **Consult with a qualified financial advisor:** They can provide personalized guidance based on your specific circumstances, goals, and risk tolerance.\\n\\n\\nRemember, there is no guaranteed path to success in the stock market. Investing involves risk, and past performance is not indicative of future results.\\n\\n\""
      ]
     },
     "execution_count": 16,
     "metadata": {},
     "output_type": "execute_result"
    }
   ],
   "source": [
    "chain=model|parser\n",
    "chain.invoke(messages)"
   ]
  },
  {
   "cell_type": "code",
   "execution_count": 21,
   "metadata": {},
   "outputs": [
    {
     "data": {
      "text/plain": [
       "'മേനക എന്നു പറയുന്ന കുട്ടി. \\n'"
      ]
     },
     "execution_count": 21,
     "metadata": {},
     "output_type": "execute_result"
    }
   ],
   "source": [
    "from langchain_core.prompts import ChatPromptTemplate\n",
    "generic_template=\"As a AI convert this input text into given {language}\"\n",
    "prompt=ChatPromptTemplate.from_messages([(\"system\",generic_template),(\"user\",\"{inputtext}\")])\n",
    "result=prompt.invoke({\"language\":\"malayalam\",\"inputtext\":\"hi my name is shruthi\"})\n",
    "chain=model|parser\n",
    "chain.invoke(result)"
   ]
  }
 ],
 "metadata": {
  "kernelspec": {
   "display_name": "myenv",
   "language": "python",
   "name": "python3"
  },
  "language_info": {
   "codemirror_mode": {
    "name": "ipython",
    "version": 3
   },
   "file_extension": ".py",
   "mimetype": "text/x-python",
   "name": "python",
   "nbconvert_exporter": "python",
   "pygments_lexer": "ipython3",
   "version": "3.12.7"
  }
 },
 "nbformat": 4,
 "nbformat_minor": 2
}
