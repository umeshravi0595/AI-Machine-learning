{
 "cells": [
  {
   "cell_type": "code",
   "execution_count": 12,
   "metadata": {},
   "outputs": [],
   "source": [
    "from langchain.prompts import PromptTemplate\n",
    "from langchain_groq import ChatGroq\n",
    "from langchain.chains.summarize import load_summarize_chain\n",
    "import streamlit as st\n",
    "from langchain.docstore.document import Document\n",
    "import os\n",
    "from dotenv import load_dotenv\n",
    "os.environ['GROQ_API_KEY']=os.getenv('GROQ_API_KEY')"
   ]
  },
  {
   "cell_type": "code",
   "execution_count": null,
   "metadata": {},
   "outputs": [],
   "source": [
    "from langchain_chroma import Chroma\n",
    "from langchain_core.prompts import ChatPromptTemplate\n",
    "from langchain_text_splitters import RecursiveCharacterTextSplitter\n",
    "from langchain.chains import create_retrieval_chain\n",
    "from langchain.chains.combine_documents import create_stuff_documents_chain"
   ]
  },
  {
   "cell_type": "code",
   "execution_count": 14,
   "metadata": {},
   "outputs": [],
   "source": [
    "model=ChatGroq(model=\"gemma2-9b-it\")"
   ]
  },
  {
   "cell_type": "code",
   "execution_count": 15,
   "metadata": {},
   "outputs": [
    {
     "name": "stderr",
     "output_type": "stream",
     "text": [
      "d:\\generativeai\\myenv\\Lib\\site-packages\\tqdm\\auto.py:21: TqdmWarning: IProgress not found. Please update jupyter and ipywidgets. See https://ipywidgets.readthedocs.io/en/stable/user_install.html\n",
      "  from .autonotebook import tqdm as notebook_tqdm\n"
     ]
    },
    {
     "name": "stdout",
     "output_type": "stream",
     "text": [
      "WARNING:tensorflow:From d:\\generativeai\\myenv\\Lib\\site-packages\\tf_keras\\src\\losses.py:2976: The name tf.losses.sparse_softmax_cross_entropy is deprecated. Please use tf.compat.v1.losses.sparse_softmax_cross_entropy instead.\n",
      "\n"
     ]
    }
   ],
   "source": [
    "os.environ['HF_TOKEN']=os.getenv(\"HF_TOKEN\")\n",
    "from langchain_huggingface import HuggingFaceEmbeddings\n",
    "embeddings=HuggingFaceEmbeddings(model_name=\"all-MiniLM-L6-v2\")"
   ]
  },
  {
   "cell_type": "code",
   "execution_count": null,
   "metadata": {},
   "outputs": [],
   "source": [
    "import assemblyai as aai\n",
    "\n",
    "# Set the API key\n",
    "aai.settings.api_key = \"dadbbd65a132428bb4cbde4a36663f9f\"  # Replace with your AssemblyAI API key\n",
    "\n",
    "# Initialize the transcriber\n",
    "transcriber = aai.Transcriber()\n",
    "\n",
    "# Path to the audio file\n",
    "audio_file = \"./Audio.mp3\"  # Replace with your actual file path\n",
    "\n",
    "# Configure transcription settings\n",
    "config = aai.TranscriptionConfig(speaker_labels=True)\n",
    "\n",
    "transcript = transcriber.transcribe(audio_file, config)\n",
    "\n",
    "if transcript.status == aai.TranscriptStatus.error:\n",
    "    print(f\"Transcription failed: {transcript.error}\")\n",
    "    exit(1)\n",
    "\n"
   ]
  },
  {
   "cell_type": "code",
   "execution_count": 18,
   "metadata": {},
   "outputs": [
    {
     "data": {
      "text/plain": [
       "[Document(metadata={}, page_content=\"Then I can do it. Otherwise you have. I will not continue for that. They have some training before they have. I have. I got certificate for that. It is a project genie AI. Okay. So can you just confirm once like here your enrollment is like a full stack development. Is that right? Yeah, yeah. Full stack. Yes, full stack. Actually I want I requested for these courses. But before that I have to register myself and I will go all towards instructions how to after I will take certificate for that or not. Okay. What team they decided for that? Please. But I have received everything in my email. From actually sir. From actually sir. Okay. So currently where are you living in now? I am here in India. In Kashmir. In Kashmir. You are. Okay. So is that like. Are you comfortable with the Indian timings? Everything right? Fine. Right. So are you like available or in any kind of timing which we see, we even. We are trying to connect you. But we couldn't be able to reach you out. So that's the reason. Like can I know the available time too? So we can have a proper conversation at the correct time. That's the reason. Yeah. Right. Yes. Yes ma'am. If for example I want to talk to discuss with them and everything if possible. From 4:30 to 5:30. Okay. Okay. Okay. So you say in the evening 4:30 to 5:30 that you are available, right? Yeah. To 5:30. It is between this time you can call me. So you have a laptop. You have laptop. I have everything. I have laptop. Internet. This is good. Internet. Everything is good. So. So your main come with me. Confirm with me and email. I have email. It is how you connect. It is data. All with you. Rabia Dotson at Foundation World School. World school dot com. Yeah, yeah, yeah. We do have the mail lady here. So this is a number. Like this is a media number, right? Yes. Yes. Yes. Yes. Yes. Actually I'm. I'm actually. But India. I will enter any India or a time or I will go out. I have visa, long visa. Okay. Okay fine. No issues like Rabia. Just give me one clarification. So would you like to attend those two days pre book class? Yes. Actually remember I said them I'm gonna have spoken with this communication guy. I told him if I to speak with them and they will see because it is. They are requested in huge package. It is around 88 000. See. Yeah. The course expert for that. And if he can see, maybe I will continue for that. See. Yeah. Okay. See the course which is like 7. What did they inform you? Actually they inform me that he told. Me you have to take Master class. And this mastering class, you have to listen and you will see yourself. After that you have to speak with the expert. What in case you didn't select it as you can. For example, we can provide you will take your courses. Okay. Okay. Let me just tell you one thing. See, this is a pre boot class that. That will be going for only two days. Okay. In case after attending that two days class, if you are not comfortable with the process or you are not comfortable with the means, the financial issues, whatever it may be, you can just inform us later. But you can just try once to attend this two days class. No amount will be like. You don't need to pay any amount. You have already paid triple nine, right? Yeah. Yeah. Yeah. You have. You have paid 1,000. That is enough to attend these two days class. Once you just clear this class, you have to pay the main amount. So. So you can just try to attend this. You just check the flow how it is. So once you complete the test and assessments, if you are eligible then we can go for the main good place. In case if that time, if you are not comfortable also we can. We can check the alternative things. Okay. Okay. If. If I am not comfortable with these classes, you can refund me money or no. See the pre boot amount is refundable. Yeah. Yeah. This thousand is refundable. But these two days classes you can attend for the thousand rupees, right? That's what I'm telling. It's a pre boot session. You can just have an idea on that. Just attend that. I know you have some issues related to the main class. But you can just try to attend the today's pre boot. Check how the classes are going on, how are comfortable with. And try to clear those assessment test. Then once you are done from your end, we can just have a discussion on the main class. We'll let you know the discounted fees also to you. So in case if that is comfortable for you, we have have many options. We do have EMI options. I do understand you. You have some issues in the EMI process, right? Like other card or something like that, right? Okay. Yeah. So you can just try to attend these today's classes. So I'll just arrange you the next. I'll just schedule the date and the classes timings. I just had you. You just attend these two days classes. Complete the assessments. If you are eligible with the main good process, then we can decide on the main good process. Okay? No issues. I'll be coordinating with you. I want to ask you one thing. This two classes, it doesn't mean for it is me costed 1000 it is. A free classes no these two classes yeah yeah yeah this is a pre boot pre boot classes so no issues for that you can also like after attending these two classes also see the amount will be refundable but once you are going for the master class then the process is like when you are paying the whole amount rate the 80,000amount right that is not refundable because that a main class and it it takes around five months to three months okay you have any other doubts no no. No no okay time that I'm a very good ma'am I told you from 4:30 to okay I see the next. Classes maybe the next class may be by Wednesday or Thursday or it may be on Saturday and Sundays okay so I'll just check with the schedule and I'll just update you okay no it's welcome ma'am thank you yeah yeah okay. Thank you thank you.\")]"
      ]
     },
     "execution_count": 18,
     "metadata": {},
     "output_type": "execute_result"
    }
   ],
   "source": [
    "transcript_text=transcript.text\n",
    "docs = [Document(page_content=transcript_text)]\n",
    "docs"
   ]
  },
  {
   "cell_type": "code",
   "execution_count": 19,
   "metadata": {},
   "outputs": [
    {
     "data": {
      "text/plain": [
       "VectorStoreRetriever(tags=['Chroma', 'HuggingFaceEmbeddings'], vectorstore=<langchain_chroma.vectorstores.Chroma object at 0x0000019EE1588CE0>, search_kwargs={})"
      ]
     },
     "execution_count": 19,
     "metadata": {},
     "output_type": "execute_result"
    }
   ],
   "source": [
    "text_splitter=RecursiveCharacterTextSplitter(chunk_size=1000,chunk_overlap=200)\n",
    "splits=text_splitter.split_documents(docs)\n",
    "vectorstore=Chroma.from_documents(documents=splits,embedding=embeddings)\n",
    "retriever=vectorstore.as_retriever()\n",
    "retriever"
   ]
  },
  {
   "cell_type": "code",
   "execution_count": null,
   "metadata": {},
   "outputs": [],
   "source": [
    "# chunks_prompt=\"\"\"\n",
    "# Please summarize the below text:\n",
    "# Speech:`{text}'\n",
    "# Summary:\n",
    "# \"\"\"\n",
    "# map_prompt_template=PromptTemplate(input_variables=['text'],\n",
    "#                                     template=chunks_prompt)"
   ]
  },
  {
   "cell_type": "code",
   "execution_count": null,
   "metadata": {},
   "outputs": [],
   "source": [
    "system_prompt=(\n",
    "    \"You are an AI trained assistant to do a call audit and analyze conversations between a salesperson and a customer.\"\n",
    "    \"Your task is to focus specifically on the points made by the salesperson to persuade the customer.\"\n",
    "    \"After reading the conversation, summarize the persuasive points from the salesperson in bullet points,\" \n",
    "    \"highlighting the arguments, benefits, or strategies used by the salesperson to convince the customer and also highlight where salesperson was\"\n",
    "    \"not able to convince the customer\"\n",
    "    \"\\n\\n\"\n",
    "    \"{context}\"\n",
    ")\n",
    "\n",
    "prompt = ChatPromptTemplate.from_messages(\n",
    "    [\n",
    "        (\"system\", system_prompt),\n",
    "        (\"human\", \"{input}\"),\n",
    "    ]\n",
    ")"
   ]
  },
  {
   "cell_type": "code",
   "execution_count": 21,
   "metadata": {},
   "outputs": [],
   "source": [
    "question_answer_chain=create_stuff_documents_chain(model,prompt)\n",
    "rag_chain=create_retrieval_chain(retriever,question_answer_chain)"
   ]
  },
  {
   "cell_type": "code",
   "execution_count": 22,
   "metadata": {},
   "outputs": [
    {
     "data": {
      "text/plain": [
       "\"Here are the persuasive points made by the salesperson, focusing on arguments, benefits, and strategies:\\n\\n* **Offers flexibility:**  The salesperson tries to find a convenient time for the customer by asking about their availability and suggesting a specific window.\\n* **Provides multiple contact methods:** The salesperson offers both phone and email contact, emphasizing their commitment to connecting.\\n* **Highlights the value of the course:** The salesperson mentions the course's comprehensive nature and the high demand for it, implying its prestige and effectiveness.\\n* **Addresses concerns and offers solutions:**\\n    * The salesperson acknowledges the customer's hesitation about the main class and suggests attending a pre-boot class to experience it firsthand.\\n    * They also address the customer's potential EMI issues by stating they have various options and are willing to work with them.\\n* **Creates a sense of urgency:** The salesperson encourages the customer to attend the pre-boot classes and complete assessments to be eligible for the main course, implying a limited opportunity.\\n* **Promises further discussion and discounted fees:**  The salesperson reassures the customer that they'll discuss the main class details and discounted fees once the customer completes the pre-boot assessments, incentivizing them to proceed.\\n* **Emphasizes personal support:** The salesperson assures the customer of their ongoing coordination and support throughout the process, building trust and confidence.\\n\\n\\nLet me know if you have any other questions!\\n\""
      ]
     },
     "execution_count": 22,
     "metadata": {},
     "output_type": "execute_result"
    }
   ],
   "source": [
    "response=rag_chain.invoke({\"input\":\"can u give me the conversations where sales person try to convince with customer\"})\n",
    "response['answer']"
   ]
  }
 ],
 "metadata": {
  "kernelspec": {
   "display_name": "myenv",
   "language": "python",
   "name": "python3"
  },
  "language_info": {
   "codemirror_mode": {
    "name": "ipython",
    "version": 3
   },
   "file_extension": ".py",
   "mimetype": "text/x-python",
   "name": "python",
   "nbconvert_exporter": "python",
   "pygments_lexer": "ipython3",
   "version": "3.12.7"
  }
 },
 "nbformat": 4,
 "nbformat_minor": 2
}
